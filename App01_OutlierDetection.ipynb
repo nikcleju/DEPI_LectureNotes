{
 "cells": [
  {
   "attachments": {},
   "cell_type": "markdown",
   "metadata": {},
   "source": [
    "# Outlier Detection with the 3-sigma Rule {.unnumbered}"
   ]
  },
  {
   "attachments": {},
   "cell_type": "markdown",
   "metadata": {},
   "source": [
    "## Python implementation"
   ]
  },
  {
   "attachments": {},
   "cell_type": "markdown",
   "metadata": {},
   "source": [
    "In this application we study how to detect outliers from a time-series (i.e. a one-dimensional signal), using the 3-sigma rule.\n",
    "\n",
    "The 3-sigma rule is simple:\n",
    "\n",
    "> Any value which is more than $3 \\sigma$ away from the mean value is an outlier.\n",
    "\n",
    "\n",
    "First, we need to import some libraries in Python"
   ]
  },
  {
   "cell_type": "code",
   "execution_count": 72,
   "metadata": {},
   "outputs": [],
   "source": [
    "import numpy as numpy\n",
    "import matplotlib.pyplot as plt"
   ]
  },
  {
   "attachments": {},
   "cell_type": "markdown",
   "metadata": {},
   "source": [
    "Suppose we have the following data series. \n",
    "\n",
    "In Python, with `[ ]` we create a **list** of objects. This list is then converted to a **numpy array**, which is similar to a Matlab array.\n",
    "\n",
    "A numpy array always has the attribute `shape` which indicates the shape of the data, e.g. the dimensions and length along each dimension."
   ]
  },
  {
   "cell_type": "code",
   "execution_count": 73,
   "metadata": {},
   "outputs": [
    {
     "data": {
      "text/plain": [
       "(13,)"
      ]
     },
     "execution_count": 73,
     "metadata": {},
     "output_type": "execute_result"
    }
   ],
   "source": [
    "data = np.array([20.1, 18.2, 19.9, 20.7, 18.9, 19.8, 214.33, 21.2, 20.5, 18.6, 22.3, 20.8, 19.7])\n",
    "\n",
    "data.shape"
   ]
  },
  {
   "attachments": {},
   "cell_type": "markdown",
   "metadata": {},
   "source": [
    "If you see the shape `(13,)` above, this means your `data` array has a single dimension of size 13, i.e. it is a **vector** with 13 elements.\n",
    "\n",
    "Let's compute the mean and the standard deviation of the data, using the functions:\n",
    "- `numpy.mean()`\n",
    "- `numpy.std()`\n",
    "- `numpy.var()` computes the variance (i.e. standard deviation squared)\n",
    "- \n",
    "We can use the shorthand notation `np`, since we imported `numpy` as `np`."
   ]
  },
  {
   "cell_type": "code",
   "execution_count": 74,
   "metadata": {},
   "outputs": [
    {
     "name": "stdout",
     "output_type": "stream",
     "text": [
      "Mean = 35.002307692307696, standard deviation = 51.77831357057719, variance = 2680.9937562130176\n"
     ]
    }
   ],
   "source": [
    "mean = np.mean(data)\n",
    "stddev = np.std(data)   # ToMe: check ddof\n",
    "var = np.var(data)      # We don't really need it, it's just for showing\n",
    "\n",
    "print(f\"Mean = {mean}, standard deviation = {stddev}, variance = {var}\")  # Use f-strings"
   ]
  },
  {
   "attachments": {},
   "cell_type": "markdown",
   "metadata": {},
   "source": [
    "Now let's check which values are more than $3 \\sigma$ away from the mean, by checking if $|x - \\mu| > 3 \\sigma$ for every value $x$.\n",
    "\n",
    "`numpy.abs()` does the absolute value of a number or array.\n",
    "\n",
    "The resulting `outliers` is an array of the same shape as `data`, because of broadcasting rules:\n",
    "- `data` is an array\n",
    "- `data - mean` is an array - a scalar, which produces an array of same size as `data`, subtracting from each element the scalar value\n",
    "- `np.abs()` computes the absolute values, the shape stays the same (an array)\n",
    "- `np.abs(...) > threshold` is an array compared to a scalar, which produces an array of same size, comparing each element with the scalar"
   ]
  },
  {
   "cell_type": "code",
   "execution_count": 75,
   "metadata": {},
   "outputs": [
    {
     "name": "stdout",
     "output_type": "stream",
     "text": [
      "[False False False False False False  True False False False False False\n",
      " False]\n"
     ]
    }
   ],
   "source": [
    "# Set the threshold for outliers\n",
    "threshold = 3 *stddev\n",
    "\n",
    "# Detect outliers\n",
    "outliers = np.abs(data - mean) > threshold\n",
    "\n",
    "print(outliers)"
   ]
  },
  {
   "attachments": {},
   "cell_type": "markdown",
   "metadata": {},
   "source": [
    "Finally, let's do some plotting magic, using the `matplotlib` library (imported as `plt`).\n",
    "\n",
    "- `plt.plot()` works similar to Matlab's `plot()`, it draws a signal\n",
    "- `plt.scatter()` places red circles at the locations of the outliers\n",
    "- `plt.text()` places text at given locations"
   ]
  },
  {
   "cell_type": "code",
   "execution_count": 76,
   "metadata": {},
   "outputs": [
    {
     "data": {
      "image/png": "[encoded data removed]",
      "text/plain": [
       "<Figure size 640x480 with 1 Axes>"
      ]
     },
     "metadata": {},
     "output_type": "display_data"
    }
   ],
   "source": [
    "# Display the time series data with outliers\n",
    "plt.plot(data)\n",
    "plt.scatter(np.where(outliers)[0], data[outliers], color='red')\n",
    "\n",
    "# Label the outliers\n",
    "for i in range(len(data)):\n",
    "    if outliers[i]:\n",
    "        plt.text(i, data[i], str(data[i]), color='red')\n",
    "\n",
    "plt.show()"
   ]
  },
  {
   "attachments": {},
   "cell_type": "markdown",
   "metadata": {},
   "source": [
    "## Matlab implementation\n",
    "\n",
    "Below is the same program, written in Matlab."
   ]
  },
  {
   "attachments": {},
   "cell_type": "markdown",
   "metadata": {},
   "source": [
    "```matlab\n",
    "% Calculate the mean and standard deviation of the data\n",
    "meanValue = mean(data);\n",
    "stdDev = std(data);\n",
    "\n",
    "% Set the threshold for outliers\n",
    "threshold = 3 * stdDev;\n",
    "\n",
    "% Detect outliers\n",
    "outliers = abs(data - meanValue) > threshold;\n",
    "\n",
    "% Display the time series data with outliers\n",
    "plot(data);\n",
    "hold on;\n",
    "\n",
    "% Mark the outliers on the plot\n",
    "scatter(find(outliers), data(outliers), 'ro');\n",
    "hold off;\n",
    "\n",
    "% Label the outliers\n",
    "for i = 1:length(data)\n",
    "    if outliers(i)\n",
    "        text(i, data(i), num2str(data(i)), 'Color', 'red');\n",
    "    end\n",
    "end\n",
    "```"
   ]
  }
 ],
 "metadata": {
  "kernelspec": {
   "display_name": "quarto",
   "language": "python",
   "name": "python3"
  },
  "language_info": {
   "codemirror_mode": {
    "name": "ipython",
    "version": 3
   },
   "file_extension": ".py",
   "mimetype": "text/x-python",
   "name": "python",
   "nbconvert_exporter": "python",
   "pygments_lexer": "ipython3",
   "version": "3.9.13"
  },
  "orig_nbformat": 4
 },
 "nbformat": 4,
 "nbformat_minor": 2
}
